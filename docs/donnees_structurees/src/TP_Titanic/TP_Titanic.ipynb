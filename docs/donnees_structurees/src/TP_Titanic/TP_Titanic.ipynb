{
 "cells": [
  {
   "cell_type": "markdown",
   "metadata": {},
   "source": [
    "# La catastrophe du Titanic\n",
    "\n",
    "Le RMS Titanic est un paquebot transatlantique britannique qui fait naufrage dans l’océan Atlantique Nord en 1912 à la suite d’une collision avec un iceberg, lors de son voyage inaugural de Southampton à New York. C’est l’une des plus grandes catastrophes maritimes survenues en temps de paix et la plus grande pour l’époque.\n",
    "\n",
    "Ce paquebot de la White Star Line, construit à l’initiative de Joseph Bruce Ismay en 1907, a été conçu par les architectes Alexander Montgomery Carlisle et Thomas Andrews des chantiers navals Harland & Wolff. Sa construction débute en 1909 à Belfast et se termine en 1912. C’est à l’époque le plus luxueux et le plus grand paquebot jamais construit. Le Titanic est dirigé par le Capitaine Edward Smith, qui a également sombré avec le navire. Le paquebot portait certains des gens les plus riches de l’époque, de même que des centaines d’émigrants de Grande-Bretagne et d’Irlande et d’ailleurs en Europe qui cherchaient une nouvelle vie aux États-Unis.\n",
    "\n",
    "Le 10 avril 1912 à 12h 15, le Titanic appareille de Southampton en Angleterre. À 18h 35, le Titanic arrive à Cherbourg. Le 11 avril à 11h 30, le Titanic arrive à Queenstown. Le 14 avril 1912, quatre jours après le commencement de son voyage inaugural, il heurte un iceberg à 23 h 40 (heure locale) et coule le 15 avril 1912 à 2 h 20 au large de Terre-Neuve. Le drame met en évidence l’insuffisance des règles de sécurité de l’époque, notamment le nombre insuffisant de canots de sauvetage\n",
    "et les *carences* dans les procédures d’évacuation d’urgence.\n",
    "\n",
    "L’épave du Titanic est localisée le 1er septembre 1985 par le professeur Robert Ballard. Elle gît à 3 843 mètres de profondeur à 650 km au sud-est de Terre-Neuve. L’histoire du paquebot a marqué les mémoires, et suscité la publication de nombreux ouvrages (historiques ou de fiction) et la réalisation de longs métrages dont le film du même nom Titanic de James Cameron, sorti en 1997 et ayant entraîné un important regain d’intérêt pour le paquebot et son histoire."
   ]
  },
  {
   "cell_type": "markdown",
   "metadata": {},
   "source": [
    "Une capture d'écran du fichier <code>titanic.csv</code> est indiquée ci-dessous :\n",
    "\n",
    "![titanic-2.png](https://snt.erwandemerville.fr/donnees_structurees/src/TP_Titanic/titanic-2.png)"
   ]
  },
  {
   "cell_type": "markdown",
   "metadata": {},
   "source": [
    "## Identification de la collection\n",
    "\n",
    "<div class=\"alert alert-info\">\n",
    "\n",
    "**<u>Question</u>** : Quels sont les descripteurs ?\n",
    "</div>"
   ]
  },
  {
   "cell_type": "raw",
   "metadata": {},
   "source": [
    "Réponse :"
   ]
  },
  {
   "cell_type": "markdown",
   "metadata": {},
   "source": [
    "<div class=\"alert alert-info\">\n",
    "\n",
    "**<u>Question</u>** : Quel est le séparateur de variables ?\n",
    "\n",
    "</div>"
   ]
  },
  {
   "cell_type": "raw",
   "metadata": {},
   "source": [
    "Réponse :"
   ]
  },
  {
   "cell_type": "markdown",
   "metadata": {},
   "source": [
    "<div class=\"alert alert-info\">\n",
    "\n",
    "**<u>Question</u>** : Chaque objet contient combien de valeurs ?\n",
    "\n",
    "</div>"
   ]
  },
  {
   "cell_type": "raw",
   "metadata": {},
   "source": [
    "Réponse :"
   ]
  },
  {
   "cell_type": "markdown",
   "metadata": {},
   "source": [
    "**Enregistrez votre travail**\n"
   ]
  },
  {
   "cell_type": "markdown",
   "metadata": {},
   "source": [
    "<div class=\"alert alert-success\">\n",
    "\n",
    "Exécutez la cellule suivante pour ouvrir le fichier « titanic.csv ». Ce fichier contient de nombreuses données sur certains passagers du Titanic (les membres d’équipage n’y figurent pas). \n",
    "\n",
    "**L'exécution de cette cellule peut être très très long**\n",
    "</div>"
   ]
  },
  {
   "cell_type": "code",
   "execution_count": null,
   "metadata": {},
   "outputs": [],
   "source": [
    "import matplotlib.pyplot as plt\n",
    "import pandas\n",
    "data = pandas.read_csv('https://snt.erwandemerville.fr/donnees_structurees/src/TP_Titanic/titanic.csv', sep = ';')"
   ]
  },
  {
   "cell_type": "markdown",
   "metadata": {},
   "source": [
    "Toutes ces données sont stockées dans la variable data.\n",
    "\n",
    "<div class=\"alert alert-info\">\n",
    "\n",
    "**<u>Question</u>** : Exécutez la cellule ci-dessous pour afficher un **extrait** de la **table de données** (les 5 premiers et les 5 derniers enregistrements).\n",
    "\n",
    "**<span font style='color:red'>Faire vérifier par le professeur.**\n",
    "\n",
    "</div>"
   ]
  },
  {
   "cell_type": "code",
   "execution_count": null,
   "metadata": {},
   "outputs": [],
   "source": [
    "data"
   ]
  },
  {
   "cell_type": "markdown",
   "metadata": {},
   "source": [
    "Chaque ligne du fichier correspond à un objet. Pour chaque objet, on a donc les valeurs pour chaque descripteur.\n",
    "\n",
    "<div class=\"alert alert-info\">\n",
    "\n",
    "**<u>Question</u>** : Pour le descripteur « prix », à quoi correspond la valeur indiquée pour chaque objet ? \n",
    "\n",
    "</div>"
   ]
  },
  {
   "cell_type": "raw",
   "metadata": {},
   "source": [
    "Réponse :"
   ]
  },
  {
   "cell_type": "markdown",
   "metadata": {},
   "source": [
    "<div class=\"alert alert-info\">\n",
    "\n",
    "**<u>Question</u>** : Pour le descripteur « survivant », à quoi correspondent la valeur « 0 » et la valeur « 1 » ?\n",
    "\n",
    "</div>"
   ]
  },
  {
   "cell_type": "raw",
   "metadata": {},
   "source": [
    "Réponse :"
   ]
  },
  {
   "cell_type": "markdown",
   "metadata": {},
   "source": [
    "**Enregistrez votre travail**"
   ]
  },
  {
   "cell_type": "markdown",
   "metadata": {},
   "source": [
    "---\n",
    "\n",
    "## Parcours de la collection\n",
    "\n",
    "La commande Python <code>data.loc[numéro de l'objet]</code> permet d'obtenir toutes les informations sur un objet."
   ]
  },
  {
   "cell_type": "markdown",
   "metadata": {},
   "source": [
    "<div class=\"alert alert-info\">\n",
    "\n",
    "**<u>Question</u>** : À l'aide de cette commande, affichez toutes les informations sur l'objet numéro 1234.\n",
    "\n",
    "</div>"
   ]
  },
  {
   "cell_type": "code",
   "execution_count": null,
   "metadata": {},
   "outputs": [],
   "source": [
    "##--indiquez votre code ici--##\n"
   ]
  },
  {
   "cell_type": "markdown",
   "metadata": {},
   "source": [
    "Rédigez un court texte pour présenter cette personne."
   ]
  },
  {
   "cell_type": "raw",
   "metadata": {},
   "source": [
    "Réponse :"
   ]
  },
  {
   "cell_type": "markdown",
   "metadata": {},
   "source": [
    "**Enregistrez votre travail**"
   ]
  },
  {
   "cell_type": "markdown",
   "metadata": {},
   "source": [
    "---\n",
    "## Exploitation des données\n",
    "\n",
    "La commande `data.describe()` fournit des informations sur chacun des descripteurs."
   ]
  },
  {
   "cell_type": "markdown",
   "metadata": {},
   "source": [
    "<div class=\"alert alert-info\">\n",
    "\n",
    "**<u>Question</u>** : À l'aide de cette commande, déterminer le nombre de classes que possède le navire, l’âge moyen des passagers, le tarif moyen payé et le tarif le plus élevé qui a été payé.\n",
    "\n",
    "</div>"
   ]
  },
  {
   "cell_type": "code",
   "execution_count": null,
   "metadata": {},
   "outputs": [],
   "source": [
    "##--indiquez votre code ici--##\n"
   ]
  },
  {
   "cell_type": "raw",
   "metadata": {},
   "source": [
    "nombre de classe : \n",
    "âge moyen des passagers :\n",
    "tarif moyen payé:\n",
    "tarif le plus élevé :"
   ]
  },
  {
   "cell_type": "markdown",
   "metadata": {},
   "source": [
    "<div class=\"alert alert-info\">\n",
    "\n",
    "**<u>Question</u>** : Observez l'écart de tarif entre le troisième et le dernier quartille. Quelle interprétation peut-on faire ?\n",
    "\n",
    "</div>"
   ]
  },
  {
   "cell_type": "raw",
   "metadata": {},
   "source": [
    "Réponse :"
   ]
  },
  {
   "cell_type": "markdown",
   "metadata": {},
   "source": [
    "**Enregistrez votre travail**"
   ]
  },
  {
   "cell_type": "markdown",
   "metadata": {},
   "source": [
    "Il est possible de représenter graphiquement certaines données à l’aide des commandes suivantes.\n",
    "\n",
    "     data.hist(column = 'prix', figsize = (9,6), bins = 10)\n",
    "     plt.show()"
   ]
  },
  {
   "cell_type": "markdown",
   "metadata": {},
   "source": [
    "<div class=\"alert alert-info\">\n",
    "\n",
    "**<u>Question</u>** : Exécutez la suite de commande.\n",
    "\n",
    "</div>"
   ]
  },
  {
   "cell_type": "code",
   "execution_count": null,
   "metadata": {},
   "outputs": [],
   "source": [
    "##--indiquez votre code ici--##\n"
   ]
  },
  {
   "cell_type": "markdown",
   "metadata": {},
   "source": [
    "<div class=\"alert alert-info\">\n",
    "\n",
    "**<u>Question</u>** : Quelle interprétation pouvez vous en faire ?\n",
    "\n",
    "</div>"
   ]
  },
  {
   "cell_type": "raw",
   "metadata": {},
   "source": [
    "Réponse :"
   ]
  },
  {
   "cell_type": "markdown",
   "metadata": {},
   "source": [
    "**Enregistrez votre travail**"
   ]
  },
  {
   "cell_type": "markdown",
   "metadata": {},
   "source": [
    "---\n",
    "\n",
    "## Exploitation plus fine des données"
   ]
  },
  {
   "cell_type": "markdown",
   "metadata": {},
   "source": [
    "<div class=\"alert alert-info\">\n",
    "\n",
    "**<u>Question</u>** : En utilisant la commande `data['survivant'].mean()` Quelle est la moyenne des données du descripteur « survivant » ?\n",
    "\n",
    "</div>"
   ]
  },
  {
   "cell_type": "code",
   "execution_count": null,
   "metadata": {},
   "outputs": [],
   "source": [
    "##--indiquez votre code ici--##\n"
   ]
  },
  {
   "cell_type": "markdown",
   "metadata": {},
   "source": [
    "<div class=\"alert alert-info\">\n",
    "\n",
    "**<u>Question</u>** : Quelle interprétation pouvez vous en faire ?\n",
    "\n",
    "</div>"
   ]
  },
  {
   "cell_type": "raw",
   "metadata": {},
   "source": [
    "Réponse :"
   ]
  },
  {
   "cell_type": "markdown",
   "metadata": {},
   "source": [
    "**Enregistrez votre travail**"
   ]
  },
  {
   "cell_type": "markdown",
   "metadata": {},
   "source": [
    "Il n’y avait pas suffisamment de places dans les canots de sauvetage du Titanic pour tous les passagers et les membres de l’équipage (et certains canots sont partis à peine remplis). On souhaite examiner l’influence de la classe sociale des passagers sur l’obtention d’une place sur un canot de sauvetage.\n",
    "\n",
    "On va donc extraire les données groupées par « classe » et afficher la moyenne des données numériques correspondant aux différents descripteurs en utilisant la commande : `data.groupby([’classe’]).mean()`"
   ]
  },
  {
   "cell_type": "markdown",
   "metadata": {},
   "source": [
    "<div class=\"alert alert-info\">\n",
    "\n",
    "**<u>Question</u>** : Déterminer la fréquence de survie pour chaque classe.\n",
    "\n",
    "</div>"
   ]
  },
  {
   "cell_type": "code",
   "execution_count": null,
   "metadata": {},
   "outputs": [],
   "source": [
    "##--indiquez votre code ici--##\n"
   ]
  },
  {
   "cell_type": "markdown",
   "metadata": {},
   "source": [
    "<div class=\"alert alert-info\">\n",
    "\n",
    "**<u>Question</u>** : Quelle interprétation pouvez vous en faire ?\n",
    "</div>"
   ]
  },
  {
   "cell_type": "raw",
   "metadata": {},
   "source": [
    "Réponse :"
   ]
  },
  {
   "cell_type": "markdown",
   "metadata": {},
   "source": [
    "**Enregistrez votre travail**"
   ]
  },
  {
   "cell_type": "markdown",
   "metadata": {},
   "source": [
    "Dans le film de James Cameron, lors de l’évacuation du Titanic, on voit que les femmes embarquent davantage sur les canots que les hommes. On peut donc supposer que la fréquence de survie pour les femmes a été supérieure à celle des hommes... "
   ]
  },
  {
   "cell_type": "markdown",
   "metadata": {},
   "source": [
    "<div class=\"alert alert-info\">\n",
    "\n",
    "**<u>Question</u>** : Indiquez le code permettant de répondre à la problématique posée (on adoptera une démarche similaire à celle utilisée à la question précédente.\n",
    "</div>"
   ]
  },
  {
   "cell_type": "code",
   "execution_count": null,
   "metadata": {},
   "outputs": [],
   "source": [
    "##--indiquez votre code ici--##\n"
   ]
  },
  {
   "cell_type": "markdown",
   "metadata": {},
   "source": [
    "<div class=\"alert alert-info\">\n",
    "\n",
    "**<u>Question</u>** : Est-ce la réalité ? \n",
    "</div>"
   ]
  },
  {
   "cell_type": "raw",
   "metadata": {},
   "source": [
    "Réponse :"
   ]
  },
  {
   "cell_type": "markdown",
   "metadata": {},
   "source": [
    "**Enregistrez votre travail**"
   ]
  },
  {
   "cell_type": "markdown",
   "metadata": {},
   "source": [
    "On cherche à savoir si la fréquence de survie chez les femmes a été indépendante de la classe dans laquelle voyageaient les passagères."
   ]
  },
  {
   "cell_type": "markdown",
   "metadata": {},
   "source": [
    "<div class=\"alert alert-info\">\n",
    "\n",
    "**<u>Question</u>** : Indiquez le code permettant d'extraire les données comme précédemment en indiquant deux descripteurs « classe », « sexe » pour pouvoir faire un deuxième tri.\n",
    "</div>"
   ]
  },
  {
   "cell_type": "code",
   "execution_count": null,
   "metadata": {},
   "outputs": [],
   "source": [
    "##--indiquez votre code ici--##\n"
   ]
  },
  {
   "cell_type": "markdown",
   "metadata": {},
   "source": [
    "<div class=\"alert alert-info\">\n",
    "\n",
    "**<u>Question</u>** : Quelle caractéristique fallait-il posséder pour avoir le maximum de chances de survivre ?\n",
    "</div>"
   ]
  },
  {
   "cell_type": "raw",
   "metadata": {},
   "source": [
    "Réponse :"
   ]
  },
  {
   "cell_type": "markdown",
   "metadata": {},
   "source": [
    "<div class=\"alert alert-info\">\n",
    "\n",
    "**<u>Question</u>** : Tous les hommes ont-ils la même chance de survie ?\n",
    "</div>"
   ]
  },
  {
   "cell_type": "raw",
   "metadata": {},
   "source": [
    "Réponse :"
   ]
  },
  {
   "cell_type": "markdown",
   "metadata": {},
   "source": [
    "<div class=\"alert alert-info\">\n",
    "\n",
    "**<u>Question</u>** : Toutes les femmes ont-elles la même chance de survie ?\n",
    "</div>"
   ]
  },
  {
   "cell_type": "raw",
   "metadata": {},
   "source": [
    "Réponse :"
   ]
  },
  {
   "cell_type": "markdown",
   "metadata": {},
   "source": [
    "**Enregistrez votre travail**"
   ]
  },
  {
   "cell_type": "markdown",
   "metadata": {},
   "source": [
    "---\n",
    "\n",
    "## Exploitation du nombre de victimes\n",
    "\n",
    "En remplacant la méthode `mean()` par la méthode `count()`, on obtient le nombre de d'objets répondant aux critères. "
   ]
  },
  {
   "cell_type": "markdown",
   "metadata": {},
   "source": [
    "<div class=\"alert alert-info\">\n",
    "\n",
    "**<u>Question</u>** : Donnez le code pour obtenir le nombre de passagers groupés par âge.\n",
    "</div>"
   ]
  },
  {
   "cell_type": "code",
   "execution_count": null,
   "metadata": {},
   "outputs": [],
   "source": [
    "##--indiquez votre code ici--##\n"
   ]
  },
  {
   "cell_type": "markdown",
   "metadata": {},
   "source": [
    "**Enregistrez votre travail**"
   ]
  },
  {
   "cell_type": "markdown",
   "metadata": {},
   "source": [
    "On souhaite savoir si les enfants ont eu plus de chance de survivre."
   ]
  },
  {
   "cell_type": "markdown",
   "metadata": {},
   "source": [
    "<div class=\"alert alert-info\">\n",
    "\n",
    "**<u>Question</u>** : Donnez le code permettant d'obtenir ceci.\n",
    "</div>"
   ]
  },
  {
   "cell_type": "code",
   "execution_count": null,
   "metadata": {},
   "outputs": [],
   "source": [
    "##--indiquez votre code ici--##\n"
   ]
  },
  {
   "cell_type": "markdown",
   "metadata": {},
   "source": [
    "<div class=\"alert alert-info\">\n",
    "\n",
    "**<u>Question</u>** : Interprétez ce résultat\n",
    "</div>"
   ]
  },
  {
   "cell_type": "raw",
   "metadata": {},
   "source": [
    "Réponse :"
   ]
  },
  {
   "cell_type": "markdown",
   "metadata": {},
   "source": [
    "**Enregistrez votre travail**"
   ]
  }
 ],
 "metadata": {
  "kernelspec": {
   "display_name": "Python 3 (ipykernel)",
   "language": "python",
   "name": "python3"
  },
  "language_info": {
   "codemirror_mode": {
    "name": "ipython",
    "version": 3
   },
   "file_extension": ".py",
   "mimetype": "text/x-python",
   "name": "python",
   "nbconvert_exporter": "python",
   "pygments_lexer": "ipython3",
   "version": "3.11.6"
  }
 },
 "nbformat": 4,
 "nbformat_minor": 4
}
